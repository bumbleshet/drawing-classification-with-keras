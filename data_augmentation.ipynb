{
 "cells": [
  {
   "cell_type": "code",
   "execution_count": 1,
   "metadata": {},
   "outputs": [
    {
     "name": "stderr",
     "output_type": "stream",
     "text": [
      "Using TensorFlow backend.\n"
     ]
    }
   ],
   "source": [
    "from keras.preprocessing.image import ImageDataGenerator, array_to_img, img_to_array, load_img\n",
    "\n",
    "datagen = ImageDataGenerator(\n",
    "        rotation_range=360,\n",
    "        width_shift_range=0.2,\n",
    "        height_shift_range=0.2,\n",
    "        shear_range=0.2,\n",
    "        zoom_range=0.2,\n",
    "        horizontal_flip=True,\n",
    "        fill_mode='wrap')\n",
    "\n",
    "import glob\n",
    "import math\n",
    "for e in range (1,14):\n",
    "    x = []\n",
    "    for filename in glob.glob(\"dataset/train/M\"+ str(e) +\"/*.JPG\"):\n",
    "        img = load_img(filename)  # this is a PIL image\n",
    "        y = img_to_array(img)  # this is a Numpy array with shape (3, 150, 150)\n",
    "        x.append(y.reshape((1,) + y.shape))# this is a Numpy array with shape (1, 3, 150, 150)\n",
    "    # the .flow() command below generates batches of randomly transformed images\n",
    "    # and saves the results to the `preview/` directory\n",
    "    for q in x:\n",
    "        i = 0\n",
    "        for batch in datagen.flow(q, batch_size=1,\n",
    "                                  save_to_dir=\"dataset/train/M\"+ str(e), save_prefix='drawing', save_format='jpeg'):\n",
    "            i += 1\n",
    "            if i > math.ceil(1000/(len(glob.glob(\"dataset/train/M\"+ str(e) +\"/*.JPG\")))):\n",
    "                break  # otherwise the generator would loop indefinitely\n"
   ]
  },
  {
   "cell_type": "code",
   "execution_count": null,
   "metadata": {},
   "outputs": [],
   "source": []
  },
  {
   "cell_type": "code",
   "execution_count": null,
   "metadata": {},
   "outputs": [],
   "source": []
  }
 ],
 "metadata": {
  "kernelspec": {
   "display_name": "thesis",
   "language": "python",
   "name": "thesis"
  },
  "language_info": {
   "codemirror_mode": {
    "name": "ipython",
    "version": 3
   },
   "file_extension": ".py",
   "mimetype": "text/x-python",
   "name": "python",
   "nbconvert_exporter": "python",
   "pygments_lexer": "ipython3",
   "version": "3.6.6"
  }
 },
 "nbformat": 4,
 "nbformat_minor": 2
}
